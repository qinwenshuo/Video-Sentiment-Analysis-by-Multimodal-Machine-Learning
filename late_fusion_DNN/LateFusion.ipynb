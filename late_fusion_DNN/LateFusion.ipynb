{
  "nbformat": 4,
  "nbformat_minor": 0,
  "metadata": {
    "colab": {
      "provenance": []
    },
    "kernelspec": {
      "name": "python3",
      "display_name": "Python 3"
    },
    "language_info": {
      "name": "python"
    },
    "gpuClass": "standard",
    "accelerator": "GPU"
  },
  "cells": [
    {
      "cell_type": "markdown",
      "source": [
        "Credit [DNN tutorial](https://becominghuman.ai/build-your-own-neural-network-for-cifar-10-using-pytorch-9bdffb389b7a)"
      ],
      "metadata": {
        "id": "dudxsJUo8YSN"
      }
    },
    {
      "cell_type": "code",
      "execution_count": null,
      "metadata": {
        "id": "cWl91a9SU2Pq",
        "colab": {
          "base_uri": "https://localhost:8080/"
        },
        "outputId": "b8e9b711-43b4-4e1b-d314-6fb3def2cffb"
      },
      "outputs": [
        {
          "output_type": "stream",
          "name": "stdout",
          "text": [
            "Mounted at /content/drive\n"
          ]
        }
      ],
      "source": [
        "import numpy as np\n",
        "import cv2\n",
        "import csv\n",
        "import torch\n",
        "import torch.nn as nn\n",
        "import torch.nn.functional as F\n",
        "import matplotlib.pyplot as plt\n",
        "import os\n",
        "import pandas as pd\n",
        "\n",
        "from google.colab import drive\n",
        "drive.mount('/content/drive')"
      ]
    },
    {
      "cell_type": "code",
      "source": [
        "FILE_PATH = '/content/drive/MyDrive/CV_Project_Workspace/Project_Code/DNN_multimodal_data/'\n",
        "ACTORS = ['Actor_01', 'Actor_02', 'Actor_03', 'Actor_04', 'Actor_05', 'Actor_06', \n",
        "          'Actor_07', 'Actor_08', 'Actor_09', 'Actor_10', 'Actor_11', 'Actor_12', \n",
        "          'Actor_13', 'Actor_14', 'Actor_15', 'Actor_16', 'Actor_17', 'Actor_18', \n",
        "          'Actor_19', 'Actor_20', 'Actor_21', 'Actor_22', 'Actor_23', 'Actor_24']\n",
        "EMOTIONS = {0:'neutral', 1:'calm', 2:'happy', 3:'sad', 4:'angry', 5:'fear', 6:'disgust', 7:'surprise'}"
      ],
      "metadata": {
        "id": "qYT0KPZTpN3i"
      },
      "execution_count": null,
      "outputs": []
    },
    {
      "cell_type": "code",
      "source": [
        "# Load preprocessed data for DNN\n",
        "fetched_data = np.zeros([11307, 19728])\n",
        "labels = np.zeros(11307)\n",
        "data_index = 0\n",
        "\n",
        "for actor in ACTORS:\n",
        "  file_path = FILE_PATH + actor + '/'\n",
        "  print(file_path)\n",
        "  for dirname, _, files in os.walk(file_path):\n",
        "    for CURRENT_FILE in files:\n",
        "      if CURRENT_FILE[21:] != 'face.csv':\n",
        "        continue\n",
        "      VIDEO_PATH = os.path.join(dirname, CURRENT_FILE)\n",
        "      AUDIO_PATH = dirname+CURRENT_FILE[:21]+'audio.csv'\n",
        "\n",
        "      audio = []\n",
        "      with open(VIDEO_PATH, 'r') as x:\n",
        "        data = list(csv.reader(x, delimiter=\",\"))\n",
        "        video = np.array(data)\n",
        "        # 4624\n",
        "      with open(AUDIO_PATH, 'r') as x:\n",
        "        data = list(csv.reader(x, delimiter=\",\"))\n",
        "        audio = np.array(data).flatten()\n",
        "        #15104\n",
        "      for i in range(video.shape[0]):\n",
        "        fetched_data[data_index] = np.concatenate([video[i], audio])\n",
        "        labels[data_index] = np.array(int(CURRENT_FILE[7])-1)\n",
        "        data_index += 1"
      ],
      "metadata": {
        "id": "FYDEeJOEVaDu",
        "colab": {
          "base_uri": "https://localhost:8080/"
        },
        "outputId": "afea499d-9443-471e-f162-24a7cd8ecb6b"
      },
      "execution_count": null,
      "outputs": [
        {
          "output_type": "stream",
          "name": "stdout",
          "text": [
            "/content/drive/MyDrive/CV_Project_Workspace/Project_Code/DNN_multimodal_data/Actor_01/\n",
            "/content/drive/MyDrive/CV_Project_Workspace/Project_Code/DNN_multimodal_data/Actor_02/\n",
            "/content/drive/MyDrive/CV_Project_Workspace/Project_Code/DNN_multimodal_data/Actor_03/\n",
            "/content/drive/MyDrive/CV_Project_Workspace/Project_Code/DNN_multimodal_data/Actor_04/\n",
            "/content/drive/MyDrive/CV_Project_Workspace/Project_Code/DNN_multimodal_data/Actor_05/\n",
            "/content/drive/MyDrive/CV_Project_Workspace/Project_Code/DNN_multimodal_data/Actor_06/\n",
            "/content/drive/MyDrive/CV_Project_Workspace/Project_Code/DNN_multimodal_data/Actor_07/\n",
            "/content/drive/MyDrive/CV_Project_Workspace/Project_Code/DNN_multimodal_data/Actor_08/\n",
            "/content/drive/MyDrive/CV_Project_Workspace/Project_Code/DNN_multimodal_data/Actor_09/\n",
            "/content/drive/MyDrive/CV_Project_Workspace/Project_Code/DNN_multimodal_data/Actor_10/\n",
            "/content/drive/MyDrive/CV_Project_Workspace/Project_Code/DNN_multimodal_data/Actor_11/\n",
            "/content/drive/MyDrive/CV_Project_Workspace/Project_Code/DNN_multimodal_data/Actor_12/\n",
            "/content/drive/MyDrive/CV_Project_Workspace/Project_Code/DNN_multimodal_data/Actor_13/\n",
            "/content/drive/MyDrive/CV_Project_Workspace/Project_Code/DNN_multimodal_data/Actor_14/\n",
            "/content/drive/MyDrive/CV_Project_Workspace/Project_Code/DNN_multimodal_data/Actor_15/\n",
            "/content/drive/MyDrive/CV_Project_Workspace/Project_Code/DNN_multimodal_data/Actor_16/\n",
            "/content/drive/MyDrive/CV_Project_Workspace/Project_Code/DNN_multimodal_data/Actor_17/\n",
            "/content/drive/MyDrive/CV_Project_Workspace/Project_Code/DNN_multimodal_data/Actor_18/\n",
            "/content/drive/MyDrive/CV_Project_Workspace/Project_Code/DNN_multimodal_data/Actor_19/\n",
            "/content/drive/MyDrive/CV_Project_Workspace/Project_Code/DNN_multimodal_data/Actor_20/\n",
            "/content/drive/MyDrive/CV_Project_Workspace/Project_Code/DNN_multimodal_data/Actor_21/\n",
            "/content/drive/MyDrive/CV_Project_Workspace/Project_Code/DNN_multimodal_data/Actor_22/\n",
            "/content/drive/MyDrive/CV_Project_Workspace/Project_Code/DNN_multimodal_data/Actor_23/\n",
            "/content/drive/MyDrive/CV_Project_Workspace/Project_Code/DNN_multimodal_data/Actor_24/\n"
          ]
        }
      ]
    },
    {
      "cell_type": "code",
      "source": [
        "print(fetched_data[-1])"
      ],
      "metadata": {
        "id": "ytvqi09f1ZN7",
        "colab": {
          "base_uri": "https://localhost:8080/"
        },
        "outputId": "7ce8f57a-046d-4316-f50d-42ea29dc7940"
      },
      "execution_count": null,
      "outputs": [
        {
          "output_type": "stream",
          "name": "stdout",
          "text": [
            "[  0.          18.02775638  35.35533906 ... -80.         -80.\n",
            " -80.        ]\n"
          ]
        }
      ]
    },
    {
      "cell_type": "code",
      "source": [
        "import random\n",
        "\n",
        "example_nums = fetched_data.shape[0]\n",
        "train_example_nums = int(0.8 * example_nums)\n",
        "test_example_nums = int(0.2 * example_nums)\n",
        "\n",
        "random_ids = [i for i in range(example_nums)]\n",
        "random.Random(4).shuffle(random_ids)\n",
        "\n",
        "random_train_ids = random_ids[:train_example_nums]\n",
        "random_test_ids = random_ids[train_example_nums:]\n",
        "\n",
        "print(len(random_train_ids), len(random_test_ids))\n",
        "\n",
        "\n",
        "X_train = torch.as_tensor(fetched_data[random_train_ids,:])\n",
        "Y_train = torch.as_tensor(labels[random_train_ids]).type(torch.int64)\n",
        "\n",
        "X_test = torch.as_tensor(fetched_data[random_test_ids,:])\n",
        "Y_test = torch.as_tensor(labels[random_test_ids]).type(torch.int64)\n"
      ],
      "metadata": {
        "id": "J1fyF0U5Vlzs",
        "colab": {
          "base_uri": "https://localhost:8080/"
        },
        "outputId": "78e51a7b-c1ef-434a-bff1-1fa633d1e543"
      },
      "execution_count": null,
      "outputs": [
        {
          "output_type": "stream",
          "name": "stdout",
          "text": [
            "9045 2262\n"
          ]
        }
      ]
    },
    {
      "cell_type": "code",
      "source": [
        "class Dataset(torch.utils.data.Dataset):\n",
        "  'Characterizes a dataset for PyTorch'\n",
        "  def __init__(self, X, Y):\n",
        "    self.labels = Y\n",
        "    self.features = X\n",
        "\n",
        "  def __len__(self):\n",
        "    return len(self.features)\n",
        "\n",
        "  def __getitem__(self, index):\n",
        "    feature = self.features[index]\n",
        "    label = self.labels[index]\n",
        "    return feature, label"
      ],
      "metadata": {
        "id": "7aXD5mZzY0v_"
      },
      "execution_count": null,
      "outputs": []
    },
    {
      "cell_type": "code",
      "source": [
        "train_dataset = Dataset(X_train, Y_train)\n",
        "test_dataset = Dataset(X_test, Y_test)\n",
        "\n",
        "print(min(Y_train), max(Y_train))\n",
        "print(Y_test)"
      ],
      "metadata": {
        "id": "6UlDebHXY-h1",
        "colab": {
          "base_uri": "https://localhost:8080/"
        },
        "outputId": "5b1dec2e-5c4a-4e19-e351-bf12afe440c0"
      },
      "execution_count": null,
      "outputs": [
        {
          "output_type": "stream",
          "name": "stdout",
          "text": [
            "tensor(0) tensor(7)\n",
            "tensor([6, 6, 1,  ..., 4, 4, 1])\n"
          ]
        }
      ]
    },
    {
      "cell_type": "code",
      "source": [
        "def get_default_device():\n",
        "    \"\"\"Pick GPU if available, else CPU\"\"\"\n",
        "    if torch.cuda.is_available():\n",
        "        return torch.device('cuda')\n",
        "    else:\n",
        "        return torch.device('cpu')"
      ],
      "metadata": {
        "id": "KJVW8wl-0Dsq"
      },
      "execution_count": null,
      "outputs": []
    },
    {
      "cell_type": "code",
      "source": [
        "device = get_default_device()\n",
        "device"
      ],
      "metadata": {
        "id": "bP2kWdGn0H0j",
        "colab": {
          "base_uri": "https://localhost:8080/"
        },
        "outputId": "c8b562bd-d86e-4d86-9683-239d54b18f3c"
      },
      "execution_count": null,
      "outputs": [
        {
          "output_type": "execute_result",
          "data": {
            "text/plain": [
              "device(type='cuda')"
            ]
          },
          "metadata": {},
          "execution_count": 9
        }
      ]
    },
    {
      "cell_type": "code",
      "source": [
        "def accuracy(outputs, labels):\n",
        "    _, preds = torch.max(outputs, dim=1)\n",
        "    return torch.tensor(torch.sum(preds == labels).item() / len(preds))"
      ],
      "metadata": {
        "id": "_GpYcsnCVasc"
      },
      "execution_count": null,
      "outputs": []
    },
    {
      "cell_type": "code",
      "source": [
        "class EmotionClassificationBase(nn.Module):\n",
        "    def training_step(self, batch):\n",
        "        features, labels = batch \n",
        "        out = self(features.type(torch.FloatTensor).to(device))                  # Generate predictions\n",
        "        loss = F.cross_entropy(out, labels.to(device)) # Calculate loss\n",
        "        return loss\n",
        "    \n",
        "    def validation_step(self, batch):\n",
        "        features, labels = batch\n",
        "        out = self(features.type(torch.FloatTensor).to(device))                    # Generate predictions\n",
        "        loss = F.cross_entropy(out, labels.to(device))   # Calculate loss\n",
        "        acc = accuracy(out, labels.to(device))           # Calculate accuracy\n",
        "        return {'val_loss': loss.detach(), 'val_acc': acc}\n",
        "        \n",
        "    def validation_epoch_end(self, outputs):\n",
        "        batch_losses = [x['val_loss'] for x in outputs]\n",
        "        epoch_loss = torch.stack(batch_losses).mean()   # Combine losses\n",
        "        batch_accs = [x['val_acc'] for x in outputs]\n",
        "        epoch_acc = torch.stack(batch_accs).mean()      # Combine accuracies\n",
        "        return {'val_loss': epoch_loss.item(), 'val_acc': epoch_acc.item()}\n",
        "    \n",
        "    def epoch_end(self, epoch, result):\n",
        "        print(\"Epoch [{}], val_loss: {:.4f}, val_acc: {:.4f}\".format(epoch, result['val_loss'], result['val_acc']))"
      ],
      "metadata": {
        "id": "KZLFOuhdzNBP"
      },
      "execution_count": null,
      "outputs": []
    },
    {
      "cell_type": "code",
      "source": [
        "def evaluate(model, val_loader):\n",
        "    outputs = [model.validation_step(batch) for batch in val_loader]\n",
        "    return model.validation_epoch_end(outputs)\n",
        "\n",
        "def fit(epochs, lr, model, train_loader, val_loader, opt_func=torch.optim.SGD):\n",
        "    history = []\n",
        "    optimizer = opt_func(model.parameters(), lr, momentum = 0.9)\n",
        "    for epoch in range(epochs):\n",
        "        # Training Phase \n",
        "        for batch in train_loader:\n",
        "            loss = model.training_step(batch)\n",
        "            loss.backward()\n",
        "            optimizer.step()\n",
        "            optimizer.zero_grad()\n",
        "        # Validation phase\n",
        "        result = evaluate(model, val_loader)\n",
        "        model.epoch_end(epoch, result)\n",
        "        history.append(result)\n",
        "    return history"
      ],
      "metadata": {
        "id": "fSbZJD0gzq2g"
      },
      "execution_count": null,
      "outputs": []
    },
    {
      "cell_type": "code",
      "source": [
        "def plot_losses(history):\n",
        "    losses = [x['val_loss'] for x in history]\n",
        "    plt.plot(losses, '-x')\n",
        "    plt.xlabel('epoch')\n",
        "    plt.ylabel('loss')\n",
        "    plt.title('Loss vs. No. of epochs');"
      ],
      "metadata": {
        "id": "ENuN067C0WhU"
      },
      "execution_count": null,
      "outputs": []
    },
    {
      "cell_type": "code",
      "source": [
        "def plot_accuracies(history):\n",
        "    accuracies = [x['val_acc'] for x in history]\n",
        "    plt.plot(accuracies, '-x')\n",
        "    plt.xlabel('epoch')\n",
        "    plt.ylabel('accuracy')\n",
        "    plt.title('Accuracy vs. No. of epochs');"
      ],
      "metadata": {
        "id": "u4Us9IEJ0XP0"
      },
      "execution_count": null,
      "outputs": []
    },
    {
      "cell_type": "code",
      "source": [],
      "metadata": {
        "id": "SBr1pf7I1tML"
      },
      "execution_count": null,
      "outputs": []
    },
    {
      "cell_type": "code",
      "source": [
        "class LR_Perceptron(EmotionClassificationBase):\n",
        "  def __init__(self) -> None:\n",
        "    super().__init__()\n",
        "    \n",
        "    self.fc1_video = torch.nn.Linear(15104, 512)\n",
        "    self.fc2_video = torch.nn.Linear(512, 512)\n",
        "    self.fc3_video = torch.nn.Linear(512, 512)\n",
        "    self.fc4_video = torch.nn.Linear(512, 512)\n",
        "    self.fc5_video = torch.nn.Linear(512, 512)\n",
        "    self.fc6_video = torch.nn.Linear(512, 8)\n",
        "\n",
        "    self.fc1_audio = torch.nn.Linear(4624, 512)\n",
        "    self.fc2_audio = torch.nn.Linear(512, 512)\n",
        "    self.fc3_audio = torch.nn.Linear(512, 512)\n",
        "    self.fc4_audio = torch.nn.Linear(512, 512)\n",
        "    self.fc5_audio = torch.nn.Linear(512, 512)\n",
        "    self.fc6_audio = torch.nn.Linear(512, 8)\n",
        "\n",
        "    self.fc1 = torch.nn.Linear(16, 80)\n",
        "    self.fc2 = torch.nn.Linear(80, 80)\n",
        "    self.fc3 = torch.nn.Linear(80, 8)\n",
        "\n",
        "\n",
        "  def forward(self, x: torch.Tensor) -> torch.Tensor:\n",
        "    a = x[:,:4624]\n",
        "    v = x[:,4624:]\n",
        "    v = self.fc1_video(v)\n",
        "    v = F.relu(v)\n",
        "    v = self.fc2_video(v)\n",
        "    v = F.relu(v)\n",
        "    v = self.fc3_video(v)\n",
        "    v = F.relu(v)\n",
        "    v = self.fc4_video(v)\n",
        "    v = F.relu(v)\n",
        "    v = self.fc5_video(v)\n",
        "    v = F.relu(v)\n",
        "    v = self.fc6_video(v)\n",
        "\n",
        "    a = self.fc1_audio(a)\n",
        "    a = F.relu(a)\n",
        "    a = self.fc2_audio(a)\n",
        "    a = F.relu(a)\n",
        "    a = self.fc3_audio(a)\n",
        "    a = F.relu(a)\n",
        "    a = self.fc4_audio(a)\n",
        "    a = F.relu(a)\n",
        "    a = self.fc5_audio(a)\n",
        "    a = F.relu(a)\n",
        "    a = self.fc6_audio(a)\n",
        "    \n",
        "    x = self.fc1(torch.cat((v,a), dim=1).to(device))\n",
        "    x = F.relu(x)\n",
        "    x = self.fc2(x)\n",
        "    x = F.relu(x)\n",
        "    x = self.fc3(x)\n",
        "    return x"
      ],
      "metadata": {
        "id": "KAvk3F8rOKMc"
      },
      "execution_count": null,
      "outputs": []
    },
    {
      "cell_type": "code",
      "source": [
        "model = LR_Perceptron()\n",
        "model.to(device)\n",
        "# train_dataset.labels = train_dataset.labels.to(device)\n",
        "# train_dataset.faces = train_dataset.faces.to(device)\n",
        "# test_dataset.labels = test_dataset.labels.to(device)\n",
        "# test_dataset.faces = test_dataset.faces.to(device)\n",
        "# validation_dataset.labels = validation_dataset.labels.to(device)\n",
        "# validation_dataset.faces = validation_dataset.faces.to(device)"
      ],
      "metadata": {
        "id": "dxQJKe-I14WA",
        "colab": {
          "base_uri": "https://localhost:8080/"
        },
        "outputId": "70112e3b-d80c-4849-ede1-b67a24d51820"
      },
      "execution_count": null,
      "outputs": [
        {
          "output_type": "execute_result",
          "data": {
            "text/plain": [
              "LR_Perceptron(\n",
              "  (fc1_video): Linear(in_features=15104, out_features=512, bias=True)\n",
              "  (fc2_video): Linear(in_features=512, out_features=512, bias=True)\n",
              "  (fc3_video): Linear(in_features=512, out_features=512, bias=True)\n",
              "  (fc4_video): Linear(in_features=512, out_features=512, bias=True)\n",
              "  (fc5_video): Linear(in_features=512, out_features=512, bias=True)\n",
              "  (fc6_video): Linear(in_features=512, out_features=8, bias=True)\n",
              "  (fc1_audio): Linear(in_features=4624, out_features=512, bias=True)\n",
              "  (fc2_audio): Linear(in_features=512, out_features=512, bias=True)\n",
              "  (fc3_audio): Linear(in_features=512, out_features=512, bias=True)\n",
              "  (fc4_audio): Linear(in_features=512, out_features=512, bias=True)\n",
              "  (fc5_audio): Linear(in_features=512, out_features=512, bias=True)\n",
              "  (fc6_audio): Linear(in_features=512, out_features=8, bias=True)\n",
              "  (fc1): Linear(in_features=16, out_features=80, bias=True)\n",
              "  (fc2): Linear(in_features=80, out_features=80, bias=True)\n",
              "  (fc3): Linear(in_features=80, out_features=8, bias=True)\n",
              ")"
            ]
          },
          "metadata": {},
          "execution_count": 20
        }
      ]
    },
    {
      "cell_type": "code",
      "source": [
        "batch_size = 32\n",
        "\n",
        "train_dataloader = torch.utils.data.DataLoader(train_dataset, batch_size, shuffle = True)\n",
        "test_dataloader = torch.utils.data.DataLoader(test_dataset, batch_size*4)"
      ],
      "metadata": {
        "id": "1u9MS-WWZC4-"
      },
      "execution_count": null,
      "outputs": []
    },
    {
      "cell_type": "code",
      "source": [
        "history = [evaluate(model, test_dataloader)]\n",
        "history"
      ],
      "metadata": {
        "id": "xJ7EFSqZ17t0",
        "colab": {
          "base_uri": "https://localhost:8080/"
        },
        "outputId": "3b37092a-77a2-4c45-c2f7-85931ae4e50b"
      },
      "execution_count": null,
      "outputs": [
        {
          "output_type": "execute_result",
          "data": {
            "text/plain": [
              "[{'val_loss': 2.0823047161102295, 'val_acc': 0.14532865583896637}]"
            ]
          },
          "metadata": {},
          "execution_count": 22
        }
      ]
    },
    {
      "cell_type": "code",
      "source": [
        "history += fit(20, 0.0001 , model, train_dataloader, test_dataloader)"
      ],
      "metadata": {
        "id": "cl8wD4r12VkS",
        "colab": {
          "base_uri": "https://localhost:8080/"
        },
        "outputId": "2fceb040-2bba-4bfa-fb93-9cc90be8bcbf"
      },
      "execution_count": null,
      "outputs": [
        {
          "output_type": "stream",
          "name": "stdout",
          "text": [
            "Epoch [0], val_loss: 1.7995, val_acc: 0.3058\n",
            "Epoch [1], val_loss: 1.7226, val_acc: 0.3379\n",
            "Epoch [2], val_loss: 1.6490, val_acc: 0.3503\n",
            "Epoch [3], val_loss: 1.6847, val_acc: 0.3364\n",
            "Epoch [4], val_loss: 1.5554, val_acc: 0.3796\n",
            "Epoch [5], val_loss: 1.5277, val_acc: 0.4112\n",
            "Epoch [6], val_loss: 1.5199, val_acc: 0.4234\n",
            "Epoch [7], val_loss: 1.4330, val_acc: 0.4388\n",
            "Epoch [8], val_loss: 1.5163, val_acc: 0.4345\n",
            "Epoch [9], val_loss: 1.3930, val_acc: 0.4785\n",
            "Epoch [10], val_loss: 1.5147, val_acc: 0.4208\n",
            "Epoch [11], val_loss: 1.3570, val_acc: 0.4774\n",
            "Epoch [12], val_loss: 1.1881, val_acc: 0.5544\n",
            "Epoch [13], val_loss: 1.3281, val_acc: 0.4772\n",
            "Epoch [14], val_loss: 1.0623, val_acc: 0.5939\n",
            "Epoch [15], val_loss: 0.9483, val_acc: 0.6653\n",
            "Epoch [16], val_loss: 1.1245, val_acc: 0.5670\n",
            "Epoch [17], val_loss: 0.7967, val_acc: 0.6948\n",
            "Epoch [18], val_loss: 0.7173, val_acc: 0.7358\n",
            "Epoch [19], val_loss: 0.9391, val_acc: 0.6408\n"
          ]
        }
      ]
    },
    {
      "cell_type": "code",
      "source": [
        "history += fit(20, 0.00001 , model, train_dataloader, test_dataloader)"
      ],
      "metadata": {
        "colab": {
          "base_uri": "https://localhost:8080/"
        },
        "id": "WRlGLkk5rEYi",
        "outputId": "5075bf61-8de7-46b8-e1e1-28a44893723c"
      },
      "execution_count": null,
      "outputs": [
        {
          "output_type": "stream",
          "name": "stdout",
          "text": [
            "Epoch [0], val_loss: 0.6808, val_acc: 0.7473\n",
            "Epoch [1], val_loss: 0.6365, val_acc: 0.7789\n",
            "Epoch [2], val_loss: 0.6317, val_acc: 0.7720\n",
            "Epoch [3], val_loss: 0.6129, val_acc: 0.7783\n",
            "Epoch [4], val_loss: 0.6197, val_acc: 0.7818\n",
            "Epoch [5], val_loss: 0.6189, val_acc: 0.7740\n",
            "Epoch [6], val_loss: 0.5886, val_acc: 0.7846\n",
            "Epoch [7], val_loss: 0.5965, val_acc: 0.7794\n",
            "Epoch [8], val_loss: 0.5938, val_acc: 0.7777\n",
            "Epoch [9], val_loss: 0.5642, val_acc: 0.7922\n",
            "Epoch [10], val_loss: 0.5532, val_acc: 0.7998\n",
            "Epoch [11], val_loss: 0.5561, val_acc: 0.7939\n",
            "Epoch [12], val_loss: 0.5611, val_acc: 0.7965\n",
            "Epoch [13], val_loss: 0.5271, val_acc: 0.8139\n",
            "Epoch [14], val_loss: 0.5145, val_acc: 0.8108\n",
            "Epoch [15], val_loss: 0.5190, val_acc: 0.8115\n",
            "Epoch [16], val_loss: 0.4916, val_acc: 0.8262\n",
            "Epoch [17], val_loss: 0.4859, val_acc: 0.8217\n",
            "Epoch [18], val_loss: 0.4914, val_acc: 0.8299\n",
            "Epoch [19], val_loss: 0.5024, val_acc: 0.8186\n"
          ]
        }
      ]
    },
    {
      "cell_type": "code",
      "source": [
        "plot_losses(history)"
      ],
      "metadata": {
        "id": "vZBQliiP2cyq",
        "colab": {
          "base_uri": "https://localhost:8080/",
          "height": 295
        },
        "outputId": "43c704a9-a170-48ef-dd4d-b0c0ab6cfabe"
      },
      "execution_count": null,
      "outputs": [
        {
          "output_type": "display_data",
          "data": {
            "text/plain": [
              "<Figure size 432x288 with 1 Axes>"
            ],
            "image/png": "[encoded data removed]"
          },
          "metadata": {
            "needs_background": "light"
          }
        }
      ]
    },
    {
      "cell_type": "code",
      "source": [
        "plot_accuracies(history)"
      ],
      "metadata": {
        "id": "_q5QoE3_2fI-",
        "colab": {
          "base_uri": "https://localhost:8080/",
          "height": 295
        },
        "outputId": "5d9677a3-137d-4052-b3d1-9881acb894bd"
      },
      "execution_count": null,
      "outputs": [
        {
          "output_type": "display_data",
          "data": {
            "text/plain": [
              "<Figure size 432x288 with 1 Axes>"
            ],
            "image/png": "[encoded data removed]"
          },
          "metadata": {
            "needs_background": "light"
          }
        }
      ]
    },
    {
      "cell_type": "code",
      "source": [
        "evaluate(model, test_dataloader)"
      ],
      "metadata": {
        "id": "QLasxwMH2j_I",
        "colab": {
          "base_uri": "https://localhost:8080/"
        },
        "outputId": "9077048e-a262-45c7-8976-974c68bd564b"
      },
      "execution_count": null,
      "outputs": [
        {
          "output_type": "execute_result",
          "data": {
            "text/plain": [
              "{'val_loss': 0.5024367570877075, 'val_acc': 0.818636953830719}"
            ]
          },
          "metadata": {},
          "execution_count": 30
        }
      ]
    },
    {
      "cell_type": "code",
      "source": [
        "torch.save(model.state_dict(), \"/content/drive/MyDrive/CV_Project_Workspace/Project_Code/DNN_multimodal_data/emotion_classification-feedforward.pth\")"
      ],
      "metadata": {
        "id": "_WX86FTS24HL"
      },
      "execution_count": null,
      "outputs": []
    },
    {
      "cell_type": "code",
      "source": [],
      "metadata": {
        "id": "Mkh2fKyInxCQ"
      },
      "execution_count": null,
      "outputs": []
    }
  ]
}